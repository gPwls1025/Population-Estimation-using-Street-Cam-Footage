{
 "cells": [
  {
   "cell_type": "code",
   "execution_count": 1,
   "metadata": {
    "id": "YGJSKbRnNO1S"
   },
   "outputs": [],
   "source": [
    "#@title Install dependencies\n",
    "from IPython.display import clear_output, display, Image\n",
    "\n",
    "clear_output()"
   ]
  },
  {
   "cell_type": "markdown",
   "metadata": {
    "id": "yTlxxiKu0Lh8"
   },
   "source": [
    "### Imports"
   ]
  },
  {
   "cell_type": "code",
   "execution_count": 26,
   "metadata": {
    "id": "1OiqEB_HNIlx"
   },
   "outputs": [],
   "source": [
    "import os\n",
    "import subprocess\n",
    "import pandas as pd\n",
    "import re\n",
    "import cv2\n",
    "import matplotlib.pyplot as plt\n",
    "import seaborn as sns\n",
    "import plotly.graph_objects as go\n",
    "import networkx as nx\n",
    "import plotly.express as px\n",
    "import streamlit as st\n",
    "\n",
    "clear_output()"
   ]
  },
  {
   "cell_type": "code",
   "execution_count": 27,
   "metadata": {
    "colab": {
     "base_uri": "https://localhost:8080/",
     "height": 69
    },
    "id": "_U1Vndr6AEX8",
    "outputId": "56ca1660-6b8f-493a-8e42-7f1e00bd81d7"
   },
   "outputs": [],
   "source": [
    "df = pd.read_csv(\"data/YOLO+RAM_merged.csv\")\n",
    "df.drop(df.columns[0], axis=1,inplace=True)"
   ]
  },
  {
   "cell_type": "code",
   "execution_count": 28,
   "metadata": {},
   "outputs": [
    {
     "data": {
      "text/html": [
       "<div>\n",
       "<style scoped>\n",
       "    .dataframe tbody tr th:only-of-type {\n",
       "        vertical-align: middle;\n",
       "    }\n",
       "\n",
       "    .dataframe tbody tr th {\n",
       "        vertical-align: top;\n",
       "    }\n",
       "\n",
       "    .dataframe thead th {\n",
       "        text-align: right;\n",
       "    }\n",
       "</style>\n",
       "<table border=\"1\" class=\"dataframe\">\n",
       "  <thead>\n",
       "    <tr style=\"text-align: right;\">\n",
       "      <th></th>\n",
       "      <th>Image</th>\n",
       "      <th>RAM_Tags</th>\n",
       "      <th>YOLO_Tags</th>\n",
       "      <th>location</th>\n",
       "      <th>locationID</th>\n",
       "      <th>videoID</th>\n",
       "      <th>aggID</th>\n",
       "    </tr>\n",
       "  </thead>\n",
       "  <tbody>\n",
       "    <tr>\n",
       "      <th>0</th>\n",
       "      <td>84.jpg</td>\n",
       "      <td>car | city street | crack | crosswalk | curb |...</td>\n",
       "      <td>1 person, 15 car, 1 traffic light</td>\n",
       "      <td>park</td>\n",
       "      <td>1</td>\n",
       "      <td>1</td>\n",
       "      <td>1100084</td>\n",
       "    </tr>\n",
       "    <tr>\n",
       "      <th>1</th>\n",
       "      <td>98.jpg</td>\n",
       "      <td>car | city street | crack | crosswalk | curb |...</td>\n",
       "      <td>14 car</td>\n",
       "      <td>park</td>\n",
       "      <td>1</td>\n",
       "      <td>1</td>\n",
       "      <td>1100098</td>\n",
       "    </tr>\n",
       "    <tr>\n",
       "      <th>2</th>\n",
       "      <td>112.jpg</td>\n",
       "      <td>black | car | city street | crack | crosswalk ...</td>\n",
       "      <td>1 person, 8 car, 1 traffic light</td>\n",
       "      <td>park</td>\n",
       "      <td>1</td>\n",
       "      <td>1</td>\n",
       "      <td>1100112</td>\n",
       "    </tr>\n",
       "    <tr>\n",
       "      <th>3</th>\n",
       "      <td>126.jpg</td>\n",
       "      <td>car | city street | crack | crosswalk | curb |...</td>\n",
       "      <td>1 person, 13 car, 1 traffic light</td>\n",
       "      <td>park</td>\n",
       "      <td>1</td>\n",
       "      <td>1</td>\n",
       "      <td>1100126</td>\n",
       "    </tr>\n",
       "    <tr>\n",
       "      <th>4</th>\n",
       "      <td>140.jpg</td>\n",
       "      <td>car | city street | crack | crosswalk | curb |...</td>\n",
       "      <td>1 person, 9 car, 1 traffic light</td>\n",
       "      <td>park</td>\n",
       "      <td>1</td>\n",
       "      <td>1</td>\n",
       "      <td>1100140</td>\n",
       "    </tr>\n",
       "  </tbody>\n",
       "</table>\n",
       "</div>"
      ],
      "text/plain": [
       "     Image                                           RAM_Tags  \\\n",
       "0   84.jpg  car | city street | crack | crosswalk | curb |...   \n",
       "1   98.jpg  car | city street | crack | crosswalk | curb |...   \n",
       "2  112.jpg  black | car | city street | crack | crosswalk ...   \n",
       "3  126.jpg  car | city street | crack | crosswalk | curb |...   \n",
       "4  140.jpg  car | city street | crack | crosswalk | curb |...   \n",
       "\n",
       "                           YOLO_Tags location  locationID  videoID    aggID  \n",
       "0  1 person, 15 car, 1 traffic light     park           1        1  1100084  \n",
       "1                             14 car     park           1        1  1100098  \n",
       "2   1 person, 8 car, 1 traffic light     park           1        1  1100112  \n",
       "3  1 person, 13 car, 1 traffic light     park           1        1  1100126  \n",
       "4   1 person, 9 car, 1 traffic light     park           1        1  1100140  "
      ]
     },
     "execution_count": 28,
     "metadata": {},
     "output_type": "execute_result"
    }
   ],
   "source": [
    "df.head()"
   ]
  },
  {
   "cell_type": "markdown",
   "metadata": {
    "id": "UieytFtgWI9x"
   },
   "source": [
    "### Co-occurence Matrix"
   ]
  },
  {
   "cell_type": "code",
   "execution_count": 29,
   "metadata": {
    "id": "qXryFDqvDDxN"
   },
   "outputs": [],
   "source": [
    "all_tags = set()\n",
    "for tags in df['RAM_Tags']:\n",
    "    all_tags.update(tags.split(' | '))\n",
    "all_tags = sorted(list(all_tags))\n",
    "\n",
    "# Creating co-occurrence matrices\n",
    "co_occurrence_overall = pd.DataFrame(index=all_tags, columns=all_tags).fillna(0)\n",
    "\n",
    "# Function to update co-occurrence matrices\n",
    "def update_co_occurrence(df, co_occurrence_matrix):\n",
    "    for _, row in df.iterrows():\n",
    "        tags = row['RAM_Tags'].split(' | ')\n",
    "        for i in range(len(tags)):\n",
    "            for j in range(i+1, len(tags)):\n",
    "                co_occurrence_matrix.at[tags[i], tags[j]] += 1\n",
    "                co_occurrence_matrix.at[tags[j], tags[i]] += 1\n",
    "\n",
    "\n",
    "co_occurrence_overall_total = []\n",
    "\n",
    "# Updating co-occurrence matrices and normalizing by location\n",
    "for location, df_location in df.groupby('location'):\n",
    "    co_occurrence_grouped = co_occurrence_overall.copy()\n",
    "    update_co_occurrence(df_location, co_occurrence_grouped) # Count occurrences\n",
    "\n",
    "    # Normalize the counts for each loc\n",
    "    co_occurrence_grouped /= df_location.shape[0] \n",
    "    co_occurrence_overall_total.append((location,co_occurrence_grouped))\n",
    "\n",
    "    # Saving each location dataframe of the co-occurrence matrix\n",
    "    co_occurrence_grouped.to_csv(f\"data/{location}_cooccurrence.csv\")\n",
    "    \n",
    "# Average the matrices\n",
    "co_occurrence_overall = sum(comat_loc[1] for comat_loc in co_occurrence_overall_total) / len(co_occurrence_overall_total)\n",
    "\n",
    "# Save the combined co-occurrence matrix\n",
    "co_occurrence_overall.to_csv(f\"data/total_cooccurrence.csv\")"
   ]
  },
  {
   "cell_type": "code",
   "execution_count": 20,
   "metadata": {},
   "outputs": [],
   "source": [
    "# Top N co-occuring pairs\n",
    "def top_n_cooccur_pairs(df, location, top_n):\n",
    "    \n",
    "    pairs = df.stack().reset_index()\n",
    "    pairs.columns = ['Term1', 'Term2', 'Co-occurrence']\n",
    "    pairs = pairs[pairs['Term1'] < pairs['Term2']]\n",
    "    top_pairs = pairs.sort_values(by='Co-occurrence', ascending=False).head(top_n)\n",
    "    \n",
    "    print(f\"Top Co-occurring Pairs in {location.capitalize()}:\")\n",
    "\n",
    "    return top_pairs\n",
    "\n",
    "\n",
    "# Top N tags by overall co-occurrences\n",
    "def top_n_common_item(df, location, top_n):\n",
    "    tag_sums = df.sum(axis=1)\n",
    "    top_n_tags = tag_sums.sort_values(ascending=False).head(top_n)\n",
    "    print(f\"\\nTop Tags by Overall Co-occurrences in {location.capitalize()}:\")\n",
    "    print(top_n_tags)    "
   ]
  },
  {
   "cell_type": "code",
   "execution_count": 24,
   "metadata": {},
   "outputs": [],
   "source": [
    "person_associated_words = [\n",
    "    'baby',\n",
    "    'boy',\n",
    "    'businessman',\n",
    "    'child',\n",
    "    'construction worker',\n",
    "    'couple',\n",
    "    'daughter',\n",
    "    'girl',\n",
    "    'man',\n",
    "    'mother',\n",
    "    'nun',\n",
    "    'officer',\n",
    "    'pedestrian',\n",
    "    'person',\n",
    "    'protester',\n",
    "    'runner',\n",
    "    'skater',\n",
    "    'skateboarder',\n",
    "    'student',\n",
    "    'woman'\n",
    "]"
   ]
  },
  {
   "cell_type": "markdown",
   "metadata": {},
   "source": [
    "## Chase\n",
    "Chase has the highest people to car interaction than any other locations"
   ]
  },
  {
   "cell_type": "code",
   "execution_count": 16,
   "metadata": {},
   "outputs": [],
   "source": [
    "chase_df = pd.read_csv('data/chase_cooccurrence.csv', index_col=0)"
   ]
  },
  {
   "cell_type": "code",
   "execution_count": 22,
   "metadata": {},
   "outputs": [
    {
     "name": "stdout",
     "output_type": "stream",
     "text": [
      "Top Co-occurring Pairs in Chase:\n"
     ]
    },
    {
     "data": {
      "text/html": [
       "<div>\n",
       "<style scoped>\n",
       "    .dataframe tbody tr th:only-of-type {\n",
       "        vertical-align: middle;\n",
       "    }\n",
       "\n",
       "    .dataframe tbody tr th {\n",
       "        vertical-align: top;\n",
       "    }\n",
       "\n",
       "    .dataframe thead th {\n",
       "        text-align: right;\n",
       "    }\n",
       "</style>\n",
       "<table border=\"1\" class=\"dataframe\">\n",
       "  <thead>\n",
       "    <tr style=\"text-align: right;\">\n",
       "      <th></th>\n",
       "      <th>Term1</th>\n",
       "      <th>Term2</th>\n",
       "      <th>Co-occurrence</th>\n",
       "    </tr>\n",
       "  </thead>\n",
       "  <tbody>\n",
       "    <tr>\n",
       "      <th>18195</th>\n",
       "      <td>city street</td>\n",
       "      <td>road</td>\n",
       "      <td>0.925821</td>\n",
       "    </tr>\n",
       "    <tr>\n",
       "      <th>61245</th>\n",
       "      <td>road</td>\n",
       "      <td>street corner</td>\n",
       "      <td>0.915931</td>\n",
       "    </tr>\n",
       "    <tr>\n",
       "      <th>18240</th>\n",
       "      <td>city street</td>\n",
       "      <td>street corner</td>\n",
       "      <td>0.879901</td>\n",
       "    </tr>\n",
       "    <tr>\n",
       "      <th>21550</th>\n",
       "      <td>crosswalk</td>\n",
       "      <td>road</td>\n",
       "      <td>0.806605</td>\n",
       "    </tr>\n",
       "    <tr>\n",
       "      <th>13620</th>\n",
       "      <td>car</td>\n",
       "      <td>road</td>\n",
       "      <td>0.790533</td>\n",
       "    </tr>\n",
       "    <tr>\n",
       "      <th>18065</th>\n",
       "      <td>city street</td>\n",
       "      <td>crosswalk</td>\n",
       "      <td>0.790004</td>\n",
       "    </tr>\n",
       "    <tr>\n",
       "      <th>51135</th>\n",
       "      <td>pavement</td>\n",
       "      <td>road</td>\n",
       "      <td>0.787178</td>\n",
       "    </tr>\n",
       "    <tr>\n",
       "      <th>13479</th>\n",
       "      <td>car</td>\n",
       "      <td>city street</td>\n",
       "      <td>0.771106</td>\n",
       "    </tr>\n",
       "    <tr>\n",
       "      <th>21245</th>\n",
       "      <td>cross</td>\n",
       "      <td>road</td>\n",
       "      <td>0.770399</td>\n",
       "    </tr>\n",
       "    <tr>\n",
       "      <th>52050</th>\n",
       "      <td>person</td>\n",
       "      <td>road</td>\n",
       "      <td>0.767573</td>\n",
       "    </tr>\n",
       "    <tr>\n",
       "      <th>21595</th>\n",
       "      <td>crosswalk</td>\n",
       "      <td>street corner</td>\n",
       "      <td>0.764747</td>\n",
       "    </tr>\n",
       "    <tr>\n",
       "      <th>51180</th>\n",
       "      <td>pavement</td>\n",
       "      <td>street corner</td>\n",
       "      <td>0.754680</td>\n",
       "    </tr>\n",
       "    <tr>\n",
       "      <th>18162</th>\n",
       "      <td>city street</td>\n",
       "      <td>pavement</td>\n",
       "      <td>0.746203</td>\n",
       "    </tr>\n",
       "    <tr>\n",
       "      <th>13665</th>\n",
       "      <td>car</td>\n",
       "      <td>street corner</td>\n",
       "      <td>0.746026</td>\n",
       "    </tr>\n",
       "    <tr>\n",
       "      <th>18064</th>\n",
       "      <td>city street</td>\n",
       "      <td>cross</td>\n",
       "      <td>0.743377</td>\n",
       "    </tr>\n",
       "    <tr>\n",
       "      <th>36190</th>\n",
       "      <td>intersection</td>\n",
       "      <td>road</td>\n",
       "      <td>0.738785</td>\n",
       "    </tr>\n",
       "    <tr>\n",
       "      <th>18113</th>\n",
       "      <td>city street</td>\n",
       "      <td>intersection</td>\n",
       "      <td>0.736136</td>\n",
       "    </tr>\n",
       "    <tr>\n",
       "      <th>18165</th>\n",
       "      <td>city street</td>\n",
       "      <td>person</td>\n",
       "      <td>0.730131</td>\n",
       "    </tr>\n",
       "    <tr>\n",
       "      <th>21215</th>\n",
       "      <td>cross</td>\n",
       "      <td>person</td>\n",
       "      <td>0.722183</td>\n",
       "    </tr>\n",
       "    <tr>\n",
       "      <th>21290</th>\n",
       "      <td>cross</td>\n",
       "      <td>street corner</td>\n",
       "      <td>0.720240</td>\n",
       "    </tr>\n",
       "    <tr>\n",
       "      <th>52095</th>\n",
       "      <td>person</td>\n",
       "      <td>street corner</td>\n",
       "      <td>0.717591</td>\n",
       "    </tr>\n",
       "    <tr>\n",
       "      <th>61292</th>\n",
       "      <td>road</td>\n",
       "      <td>walk</td>\n",
       "      <td>0.716355</td>\n",
       "    </tr>\n",
       "    <tr>\n",
       "      <th>36235</th>\n",
       "      <td>intersection</td>\n",
       "      <td>street corner</td>\n",
       "      <td>0.715472</td>\n",
       "    </tr>\n",
       "    <tr>\n",
       "      <th>21115</th>\n",
       "      <td>cross</td>\n",
       "      <td>crosswalk</td>\n",
       "      <td>0.697633</td>\n",
       "    </tr>\n",
       "    <tr>\n",
       "      <th>21337</th>\n",
       "      <td>cross</td>\n",
       "      <td>walk</td>\n",
       "      <td>0.697103</td>\n",
       "    </tr>\n",
       "    <tr>\n",
       "      <th>52142</th>\n",
       "      <td>person</td>\n",
       "      <td>walk</td>\n",
       "      <td>0.688449</td>\n",
       "    </tr>\n",
       "    <tr>\n",
       "      <th>18287</th>\n",
       "      <td>city street</td>\n",
       "      <td>walk</td>\n",
       "      <td>0.680325</td>\n",
       "    </tr>\n",
       "    <tr>\n",
       "      <th>21520</th>\n",
       "      <td>crosswalk</td>\n",
       "      <td>person</td>\n",
       "      <td>0.672907</td>\n",
       "    </tr>\n",
       "    <tr>\n",
       "      <th>75017</th>\n",
       "      <td>street corner</td>\n",
       "      <td>walk</td>\n",
       "      <td>0.670964</td>\n",
       "    </tr>\n",
       "    <tr>\n",
       "      <th>13538</th>\n",
       "      <td>car</td>\n",
       "      <td>intersection</td>\n",
       "      <td>0.663017</td>\n",
       "    </tr>\n",
       "  </tbody>\n",
       "</table>\n",
       "</div>"
      ],
      "text/plain": [
       "               Term1          Term2  Co-occurrence\n",
       "18195    city street           road       0.925821\n",
       "61245           road  street corner       0.915931\n",
       "18240    city street  street corner       0.879901\n",
       "21550      crosswalk           road       0.806605\n",
       "13620            car           road       0.790533\n",
       "18065    city street      crosswalk       0.790004\n",
       "51135       pavement           road       0.787178\n",
       "13479            car    city street       0.771106\n",
       "21245          cross           road       0.770399\n",
       "52050         person           road       0.767573\n",
       "21595      crosswalk  street corner       0.764747\n",
       "51180       pavement  street corner       0.754680\n",
       "18162    city street       pavement       0.746203\n",
       "13665            car  street corner       0.746026\n",
       "18064    city street          cross       0.743377\n",
       "36190   intersection           road       0.738785\n",
       "18113    city street   intersection       0.736136\n",
       "18165    city street         person       0.730131\n",
       "21215          cross         person       0.722183\n",
       "21290          cross  street corner       0.720240\n",
       "52095         person  street corner       0.717591\n",
       "61292           road           walk       0.716355\n",
       "36235   intersection  street corner       0.715472\n",
       "21115          cross      crosswalk       0.697633\n",
       "21337          cross           walk       0.697103\n",
       "52142         person           walk       0.688449\n",
       "18287    city street           walk       0.680325\n",
       "21520      crosswalk         person       0.672907\n",
       "75017  street corner           walk       0.670964\n",
       "13538            car   intersection       0.663017"
      ]
     },
     "execution_count": 22,
     "metadata": {},
     "output_type": "execute_result"
    }
   ],
   "source": [
    "top_n_cooccur_pairs(chase_df, 'chase', 30) "
   ]
  },
  {
   "cell_type": "code",
   "execution_count": 37,
   "metadata": {},
   "outputs": [
    {
     "name": "stdout",
     "output_type": "stream",
     "text": [
      "\n",
      "Top Tags by Overall Co-occurrences in Chase:\n",
      "road             11.256446\n",
      "city street      10.754327\n",
      "street corner    10.655422\n",
      "crosswalk         9.392264\n",
      "car               9.256093\n",
      "pavement          9.132109\n",
      "person            9.070293\n",
      "cross             9.066937\n",
      "intersection      8.658778\n",
      "walk              8.431473\n",
      "dtype: float64\n"
     ]
    }
   ],
   "source": [
    "top_n_common_item(co_occurrence_overall_total[0][1], co_occurrence_overall_total[0][0], 10) "
   ]
  },
  {
   "cell_type": "code",
   "execution_count": 25,
   "metadata": {
    "scrolled": true
   },
   "outputs": [
    {
     "data": {
      "text/plain": [
       "1.5990815966089715"
      ]
     },
     "execution_count": 25,
     "metadata": {},
     "output_type": "execute_result"
    }
   ],
   "source": [
    "chase_df.loc['car', person_associated_words].sum()"
   ]
  },
  {
   "cell_type": "markdown",
   "metadata": {},
   "source": [
    "## Dumbo"
   ]
  },
  {
   "cell_type": "code",
   "execution_count": 38,
   "metadata": {},
   "outputs": [
    {
     "name": "stdout",
     "output_type": "stream",
     "text": [
      "Top Co-occurring Pairs in Dumbo:\n",
      "crosswalk     road            0.992908\n",
      "intersection  road            0.783688\n",
      "crosswalk     intersection    0.782270\n",
      "city street   road            0.732624\n",
      "              crosswalk       0.726950\n",
      "              intersection    0.707801\n",
      "city          road            0.705674\n",
      "              crosswalk       0.702128\n",
      "              city street     0.679433\n",
      "              intersection    0.672340\n",
      "dtype: float64\n"
     ]
    }
   ],
   "source": [
    "top_n_cooccur_pairs(co_occurrence_overall_total[1][1], co_occurrence_overall_total[1][0], 10) "
   ]
  },
  {
   "cell_type": "code",
   "execution_count": 39,
   "metadata": {},
   "outputs": [
    {
     "name": "stdout",
     "output_type": "stream",
     "text": [
      "\n",
      "Top Tags by Overall Co-occurrences in Dumbo:\n",
      "road             8.933333\n",
      "crosswalk        8.866667\n",
      "intersection     7.141844\n",
      "city street      6.722695\n",
      "city             6.456738\n",
      "car              5.342553\n",
      "cross            5.060284\n",
      "street sign      4.941844\n",
      "person           4.456028\n",
      "street corner    4.193617\n",
      "dtype: float64\n"
     ]
    }
   ],
   "source": [
    "top_n_common_item(co_occurrence_overall_total[1][1], co_occurrence_overall_total[1][0], 10) "
   ]
  },
  {
   "cell_type": "code",
   "execution_count": 33,
   "metadata": {},
   "outputs": [
    {
     "data": {
      "text/plain": [
       "0.4191489361702127"
      ]
     },
     "execution_count": 33,
     "metadata": {},
     "output_type": "execute_result"
    }
   ],
   "source": [
    "co_occurrence_overall_total[1][1].loc['car', person_associated_words].sum()"
   ]
  },
  {
   "cell_type": "code",
   "execution_count": 60,
   "metadata": {},
   "outputs": [],
   "source": [
    "co_occurrence_overall_total[1][1].to_csv(\"data/dumbo_cooccurrence.csv\")"
   ]
  },
  {
   "cell_type": "markdown",
   "metadata": {},
   "source": [
    "## Park"
   ]
  },
  {
   "cell_type": "code",
   "execution_count": 40,
   "metadata": {},
   "outputs": [
    {
     "name": "stdout",
     "output_type": "stream",
     "text": [
      "Top Co-occurring Pairs in Park:\n",
      "intersection  road             0.837262\n",
      "drain         road             0.833520\n",
      "city street   road             0.823045\n",
      "drain         intersection     0.821549\n",
      "city street   intersection     0.819678\n",
      "              drain            0.819304\n",
      "crack         road             0.817434\n",
      "road          street corner    0.817434\n",
      "car           road             0.816685\n",
      "              intersection     0.813318\n",
      "dtype: float64\n"
     ]
    }
   ],
   "source": [
    "top_n_cooccur_pairs(co_occurrence_overall_total[2][1], co_occurrence_overall_total[2][0], 10) "
   ]
  },
  {
   "cell_type": "code",
   "execution_count": 41,
   "metadata": {},
   "outputs": [
    {
     "name": "stdout",
     "output_type": "stream",
     "text": [
      "\n",
      "Top Tags by Overall Co-occurrences in Park:\n",
      "road             9.146652\n",
      "intersection     8.928545\n",
      "drain            8.888515\n",
      "city street      8.783389\n",
      "crack            8.706697\n",
      "car              8.695847\n",
      "street corner    8.684250\n",
      "curb             8.607183\n",
      "manhole cover    8.168350\n",
      "crosswalk        7.940890\n",
      "dtype: float64\n"
     ]
    }
   ],
   "source": [
    "top_n_common_item(co_occurrence_overall_total[2][1], co_occurrence_overall_total[2][0], 10) "
   ]
  },
  {
   "cell_type": "code",
   "execution_count": 30,
   "metadata": {},
   "outputs": [
    {
     "data": {
      "text/plain": [
       "0.12345679012345678"
      ]
     },
     "execution_count": 30,
     "metadata": {},
     "output_type": "execute_result"
    }
   ],
   "source": [
    "co_occurrence_overall_total[2][1].loc['car', person_associated_words].sum()"
   ]
  },
  {
   "cell_type": "code",
   "execution_count": null,
   "metadata": {},
   "outputs": [],
   "source": []
  },
  {
   "cell_type": "code",
   "execution_count": null,
   "metadata": {},
   "outputs": [],
   "source": []
  },
  {
   "cell_type": "code",
   "execution_count": 1,
   "metadata": {},
   "outputs": [],
   "source": [
    "import dash\n",
    "from dash import dcc, html, Input, Output\n",
    "import pandas as pd\n",
    "import plotly.graph_objects as go\n",
    "from process import update_co_occurrence, create_filtered_word_counts_df, get_word_counts_and_co_occurrence\n",
    "from plots import create_graph_from_co_occurrence, plot_network, get_tag_data_without_label, plot_tag_counts_by_location\n",
    "\n",
    "# Load your data\n",
    "file_path = 'data/'\n",
    "df = pd.read_csv(file_path + 'YOLO+RAM_merged.csv')\n",
    "df.drop(columns=['Unnamed: 0'], inplace=True)\n",
    "\n",
    "word_counts_df_filtered, co_occurrence_overall, words_cps_1, words_cps_2, words_cps_3 = get_word_counts_and_co_occurrence(df)"
   ]
  },
  {
   "cell_type": "code",
   "execution_count": 2,
   "metadata": {},
   "outputs": [
    {
     "data": {
      "text/html": [
       "<div>\n",
       "<style scoped>\n",
       "    .dataframe tbody tr th:only-of-type {\n",
       "        vertical-align: middle;\n",
       "    }\n",
       "\n",
       "    .dataframe tbody tr th {\n",
       "        vertical-align: top;\n",
       "    }\n",
       "\n",
       "    .dataframe thead th {\n",
       "        text-align: right;\n",
       "    }\n",
       "</style>\n",
       "<table border=\"1\" class=\"dataframe\">\n",
       "  <thead>\n",
       "    <tr style=\"text-align: right;\">\n",
       "      <th></th>\n",
       "      <th>Tag</th>\n",
       "      <th>RAM_Count</th>\n",
       "    </tr>\n",
       "  </thead>\n",
       "  <tbody>\n",
       "    <tr>\n",
       "      <th>0</th>\n",
       "      <td>ambulance</td>\n",
       "      <td>20.333333</td>\n",
       "    </tr>\n",
       "    <tr>\n",
       "      <th>1</th>\n",
       "      <td>baby</td>\n",
       "      <td>8.000000</td>\n",
       "    </tr>\n",
       "    <tr>\n",
       "      <th>2</th>\n",
       "      <td>baby carriage</td>\n",
       "      <td>34.666667</td>\n",
       "    </tr>\n",
       "    <tr>\n",
       "      <th>3</th>\n",
       "      <td>backpack</td>\n",
       "      <td>6.333333</td>\n",
       "    </tr>\n",
       "    <tr>\n",
       "      <th>4</th>\n",
       "      <td>bag</td>\n",
       "      <td>38.666667</td>\n",
       "    </tr>\n",
       "    <tr>\n",
       "      <th>...</th>\n",
       "      <td>...</td>\n",
       "      <td>...</td>\n",
       "    </tr>\n",
       "    <tr>\n",
       "      <th>161</th>\n",
       "      <td>white</td>\n",
       "      <td>219.333333</td>\n",
       "    </tr>\n",
       "    <tr>\n",
       "      <th>162</th>\n",
       "      <td>woman</td>\n",
       "      <td>698.666667</td>\n",
       "    </tr>\n",
       "    <tr>\n",
       "      <th>163</th>\n",
       "      <td>writing</td>\n",
       "      <td>1.666667</td>\n",
       "    </tr>\n",
       "    <tr>\n",
       "      <th>164</th>\n",
       "      <td>yellow</td>\n",
       "      <td>23.666667</td>\n",
       "    </tr>\n",
       "    <tr>\n",
       "      <th>165</th>\n",
       "      <td>zebra crossing</td>\n",
       "      <td>221.333333</td>\n",
       "    </tr>\n",
       "  </tbody>\n",
       "</table>\n",
       "<p>166 rows × 2 columns</p>\n",
       "</div>"
      ],
      "text/plain": [
       "                Tag   RAM_Count\n",
       "0         ambulance   20.333333\n",
       "1              baby    8.000000\n",
       "2     baby carriage   34.666667\n",
       "3          backpack    6.333333\n",
       "4               bag   38.666667\n",
       "..              ...         ...\n",
       "161           white  219.333333\n",
       "162           woman  698.666667\n",
       "163         writing    1.666667\n",
       "164          yellow   23.666667\n",
       "165  zebra crossing  221.333333\n",
       "\n",
       "[166 rows x 2 columns]"
      ]
     },
     "execution_count": 2,
     "metadata": {},
     "output_type": "execute_result"
    }
   ],
   "source": [
    "word_counts_df_filtered"
   ]
  }
 ],
 "metadata": {
  "colab": {
   "gpuType": "T4",
   "provenance": []
  },
  "kernelspec": {
   "display_name": "Python 3 (ipykernel)",
   "language": "python",
   "name": "python3"
  },
  "language_info": {
   "codemirror_mode": {
    "name": "ipython",
    "version": 3
   },
   "file_extension": ".py",
   "mimetype": "text/x-python",
   "name": "python",
   "nbconvert_exporter": "python",
   "pygments_lexer": "ipython3",
   "version": "3.11.7"
  }
 },
 "nbformat": 4,
 "nbformat_minor": 4
}
