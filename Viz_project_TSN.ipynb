{
 "cells": [
  {
   "cell_type": "markdown",
   "metadata": {},
   "source": [
    "# Pre-trained TSN Models"
   ]
  },
  {
   "cell_type": "markdown",
   "metadata": {},
   "source": [
    "### Reference pages: \n",
    "\n",
    "https://cv.gluon.ai/install/install-more.html\n",
    "\n",
    "https://cv.gluon.ai/build/examples_action_recognition/demo_tsn_ucf101.html\n",
    "\n",
    "\n",
    "### Environment Set Up\n",
    "\n",
    "Created new environment (python version 3.8.19), and installed lower torch version directly from the source\n",
    "\n",
    "pip install https://download.pytorch.org/whl/cpu/torch-1.6.0-cp38-none-macosx_10_9_x86_64.whl    \n",
    "\n",
    "This environment also needs lower numpy version --> pandas doesn't work\n"
   ]
  },
  {
   "cell_type": "code",
   "execution_count": 16,
   "metadata": {},
   "outputs": [
    {
     "name": "stdout",
     "output_type": "stream",
     "text": [
      "Collecting numpy==1.19.3\n",
      "  Using cached numpy-1.19.3-cp38-cp38-macosx_10_9_x86_64.whl.metadata (2.0 kB)\n",
      "Using cached numpy-1.19.3-cp38-cp38-macosx_10_9_x86_64.whl (15.9 MB)\n",
      "Installing collected packages: numpy\n",
      "  Attempting uninstall: numpy\n",
      "    Found existing installation: numpy 1.24.4\n",
      "    Uninstalling numpy-1.24.4:\n",
      "      Successfully uninstalled numpy-1.24.4\n",
      "\u001b[31mERROR: pip's dependency resolver does not currently take into account all the packages that are installed. This behaviour is the source of the following dependency conflicts.\n",
      "matplotlib 3.7.5 requires numpy<2,>=1.20, but you have numpy 1.19.3 which is incompatible.\n",
      "pandas 2.0.3 requires numpy>=1.20.3; python_version < \"3.10\", but you have numpy 1.19.3 which is incompatible.\n",
      "scipy 1.10.1 requires numpy<1.27.0,>=1.19.5, but you have numpy 1.19.3 which is incompatible.\u001b[0m\u001b[31m\n",
      "\u001b[0mSuccessfully installed numpy-1.19.3\n",
      "Note: you may need to restart the kernel to use updated packages.\n"
     ]
    }
   ],
   "source": [
    "pip install numpy==1.19.3"
   ]
  },
  {
   "cell_type": "code",
   "execution_count": 1,
   "metadata": {},
   "outputs": [
    {
     "name": "stderr",
     "output_type": "stream",
     "text": [
      "/Users/hp/opt/anaconda3/envs/viz_project/lib/python3.8/site-packages/scipy/__init__.py:143: UserWarning: A NumPy version >=1.19.5 and <1.27.0 is required for this version of SciPy (detected version 1.19.3)\n",
      "  warnings.warn(f\"A NumPy version >={np_minversion} and <{np_maxversion}\"\n",
      "/Users/hp/opt/anaconda3/envs/viz_project/lib/python3.8/site-packages/tqdm/auto.py:21: TqdmWarning: IProgress not found. Please update jupyter and ipywidgets. See https://ipywidgets.readthedocs.io/en/stable/user_install.html\n",
      "  from .autonotebook import tqdm as notebook_tqdm\n",
      "/Users/hp/opt/anaconda3/envs/viz_project/lib/python3.8/site-packages/gluoncv/__init__.py:40: UserWarning: Both `mxnet==1.9.1` and `torch==1.6.0` are installed. You might encounter increased GPU memory footprint if both framework are used at the same time.\n",
      "  warnings.warn(f'Both `mxnet=={mx.__version__}` and `torch=={torch.__version__}` are installed. '\n"
     ]
    }
   ],
   "source": [
    "#import matplotlib.pyplot as plt\n",
    "import mxnet as mx\n",
    "from mxnet import gluon, nd, image\n",
    "from mxnet.gluon.data.vision import transforms\n",
    "from gluoncv.data.transforms import video\n",
    "from gluoncv import utils\n",
    "from gluoncv.model_zoo import get_model\n",
    "import numpy as np"
   ]
  },
  {
   "cell_type": "code",
   "execution_count": 3,
   "metadata": {},
   "outputs": [],
   "source": [
    "from IPython.display import clear_output, display, Image\n",
    "import os\n",
    "import subprocess\n",
    "import re\n",
    "import cv2"
   ]
  },
  {
   "cell_type": "code",
   "execution_count": 4,
   "metadata": {},
   "outputs": [
    {
     "name": "stdout",
     "output_type": "stream",
     "text": [
      "Extracted 308 frames to /Users/hp/Population-Estimation-using-Street-Cam-Footage/content/extracted_frames\n"
     ]
    }
   ],
   "source": [
    "video_path = \"/Users/hp/viz_project_trials/video/sample_video_pop_estimation.mp4\"\n",
    "\n",
    "output_dir = os.path.join(\"/Users/hp/viz_project_trials/content\", \"extracted_frames\")\n",
    "os.makedirs(output_dir, exist_ok=True)\n",
    "\n",
    "cap = cv2.VideoCapture(video_path)\n",
    "\n",
    "if not cap.isOpened():\n",
    "  print(\"Error opening video!\")\n",
    "  exit()\n",
    "\n",
    "# frames per second\n",
    "fps = int(cap.get(cv2.CAP_PROP_FPS))\n",
    "# total number of frames\n",
    "total_frames = int(cap.get(cv2.CAP_PROP_FRAME_COUNT))\n",
    "\n",
    "frame_count = 1\n",
    "actual_count = 0\n",
    "\n",
    "# Read until video is completed\n",
    "while True:\n",
    "  ret, frame = cap.read()\n",
    "\n",
    "  if not ret:\n",
    "    print(\"Can't receive frame (stream end?). Exiting...\")\n",
    "    break\n",
    "\n",
    "  # Save frame as numbered image\n",
    "  if frame_count % fps == 0:\n",
    "    image_path = os.path.join(output_dir, f\"{frame_count}.jpg\")\n",
    "    cv2.imwrite(image_path, frame)\n",
    "    actual_count += 1\n",
    "\n",
    "  frame_count += 1\n",
    "\n",
    "  if frame_count > total_frames:\n",
    "    break\n",
    "\n",
    "cap.release()\n",
    "\n",
    "print(f\"Extracted {actual_count} frames to {output_dir}\")"
   ]
  },
  {
   "cell_type": "markdown",
   "metadata": {},
   "source": [
    "Try one image"
   ]
  },
  {
   "cell_type": "code",
   "execution_count": 5,
   "metadata": {},
   "outputs": [],
   "source": [
    "\"\"\"\n",
    "# Path to the image file you want to process\n",
    "image_path = \"/Users/hp/Population-Estimation-using-Street-Cam-Footage/content/extracted_frames/112.jpg\"\n",
    "\n",
    "# Open the image\n",
    "img = image.imread(image_path)\n",
    "\"\"\"\n"
   ]
  },
  {
   "cell_type": "markdown",
   "metadata": {},
   "source": [
    "Get Image directory"
   ]
  },
  {
   "cell_type": "code",
   "execution_count": 10,
   "metadata": {},
   "outputs": [],
   "source": [
    "# Path to your extracted frames directory\n",
    "frames_dir = \"/Users/hp/viz_project_trials/content/extracted_frames\"\n",
    "\n",
    "# Get list of image files in the directory\n",
    "image_files = sorted([os.path.join(frames_dir, f) for f in os.listdir(frames_dir) if f.endswith('.jpg')])"
   ]
  },
  {
   "cell_type": "code",
   "execution_count": 11,
   "metadata": {},
   "outputs": [],
   "source": [
    "transform_fn = transforms.Compose([\n",
    "    video.VideoCenterCrop(size=224),\n",
    "    video.VideoToTensor(),\n",
    "    video.VideoNormalize([0.485, 0.456, 0.406], [0.229, 0.224, 0.225])\n",
    "])"
   ]
  },
  {
   "cell_type": "code",
   "execution_count": 7,
   "metadata": {},
   "outputs": [],
   "source": [
    "#img_list = transform_fn([img.asnumpy()])"
   ]
  },
  {
   "cell_type": "code",
   "execution_count": 12,
   "metadata": {},
   "outputs": [],
   "source": [
    "net = get_model('vgg16_ucf101', nclass=101, pretrained=True)"
   ]
  },
  {
   "cell_type": "code",
   "execution_count": 15,
   "metadata": {},
   "outputs": [
    {
     "name": "stdout",
     "output_type": "stream",
     "text": [
      "Labels, probabilities, and image names saved to /Users/hp/Population-Estimation-using-Street-Cam-Footage/output.txt\n"
     ]
    }
   ],
   "source": [
    "output_file = \"/Users/hp/Population-Estimation-using-Street-Cam-Footage/output.txt\"\n",
    "\n",
    "with open(output_file, \"w\") as f:\n",
    "    for image_path in image_files:\n",
    "        # Open the image\n",
    "        img = image.imread(image_path)\n",
    "\n",
    "        img_list = transform_fn([img.asnumpy()])\n",
    "\n",
    "        pred = net(nd.array(img_list[0]).expand_dims(axis=0))\n",
    "\n",
    "        classes = net.classes\n",
    "        topK = 5\n",
    "        ind = nd.topk(pred, k=topK)[0].astype('int')\n",
    "\n",
    "        # Store labels and probabilities in lists\n",
    "        labels = []\n",
    "        probabilities = []\n",
    "\n",
    "        for i in range(topK):\n",
    "            label = classes[ind[i].asscalar()]\n",
    "            probability = nd.softmax(pred)[0][ind[i]].asscalar()\n",
    "            labels.append(label)\n",
    "            probabilities.append(probability)\n",
    "\n",
    "        # Write to the output file\n",
    "        f.write(f\"Image: {os.path.basename(image_path)}\\n\")\n",
    "        for label, prob in zip(labels, probabilities):\n",
    "            f.write(f\"\\t{label}: {prob}\\n\")\n",
    "        f.write(\"\\n\")\n",
    "\n",
    "print(f\"Labels, probabilities, and image names saved to {output_file}\")"
   ]
  },
  {
   "cell_type": "code",
   "execution_count": null,
   "metadata": {},
   "outputs": [],
   "source": []
  }
 ],
 "metadata": {
  "kernelspec": {
   "display_name": "Python 3",
   "language": "python",
   "name": "python3"
  },
  "language_info": {
   "codemirror_mode": {
    "name": "ipython",
    "version": 3
   },
   "file_extension": ".py",
   "mimetype": "text/x-python",
   "name": "python",
   "nbconvert_exporter": "python",
   "pygments_lexer": "ipython3",
   "version": "3.8.19"
  }
 },
 "nbformat": 4,
 "nbformat_minor": 2
}
