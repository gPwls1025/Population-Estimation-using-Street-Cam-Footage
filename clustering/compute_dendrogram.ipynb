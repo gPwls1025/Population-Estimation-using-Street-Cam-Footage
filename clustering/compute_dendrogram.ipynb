{
 "cells": [
  {
   "cell_type": "code",
   "execution_count": 10,
   "id": "f1483512-2364-467f-9ded-62a309c2fa11",
   "metadata": {},
   "outputs": [],
   "source": [
    "from dendromap_data import compute_dendrogram\n",
    "import json\n",
    "import os\n",
    "import shutil"
   ]
  },
  {
   "cell_type": "code",
   "execution_count": 2,
   "id": "e5dcd076-45b2-44f1-adaf-0f2e3b1f7491",
   "metadata": {},
   "outputs": [],
   "source": [
    "rel_path = \"../data/\"\n",
    "filename = \"all_image_features.json\"\n",
    "filepath = rel_path + filename\n",
    "\n",
    "with open(filepath, \"r\") as input_file:\n",
    "    instances = json.load(input_file)"
   ]
  },
  {
   "cell_type": "code",
   "execution_count": 3,
   "id": "416e7fe0-e941-4479-815c-dad9d7c768a6",
   "metadata": {},
   "outputs": [
    {
     "name": "stdout",
     "output_type": "stream",
     "text": [
      "Extracting Features\n",
      "Agglomerative Clustering\n",
      "Constructing Dendrogram\n",
      "Adding information to the leaf nodes\n",
      "Done!\n"
     ]
    }
   ],
   "source": [
    "dendrogram = compute_dendrogram(instances)"
   ]
  },
  {
   "cell_type": "code",
   "execution_count": 6,
   "id": "feac3de8-f72d-48f2-b0fa-c4d2319827c6",
   "metadata": {},
   "outputs": [],
   "source": [
    "if not os.path.exists(\"../public/street_wire/clusters/\"):\n",
    "    os.makedirs(\"../public/street_wire/clusters/\") "
   ]
  },
  {
   "cell_type": "code",
   "execution_count": 7,
   "id": "fb1577b0-ce55-4959-98bf-a4c9c5521b9b",
   "metadata": {},
   "outputs": [],
   "source": [
    "with open(\"../public/street_wire/clusters/all_clusters.json\", \"w\") as out_file:\n",
    "\tdendrogram_json = dendrogram.to_json()\n",
    "\tjson.dump({\"tree\": dendrogram_json}, out_file)"
   ]
  },
  {
   "cell_type": "code",
   "execution_count": 21,
   "id": "acec40c1-ad84-45d6-946b-67e3f26eb31c",
   "metadata": {},
   "outputs": [
    {
     "data": {
      "text/plain": [
       "'../../dendromap/public/all_extracted_frames/images'"
      ]
     },
     "execution_count": 21,
     "metadata": {},
     "output_type": "execute_result"
    }
   ],
   "source": [
    "shutil.copytree('../data/all_extracted_frames', '../../dendromap/public/all_extracted_frames/images')"
   ]
  }
 ],
 "metadata": {
  "kernelspec": {
   "display_name": "Python 3 (ipykernel)",
   "language": "python",
   "name": "python3"
  },
  "language_info": {
   "codemirror_mode": {
    "name": "ipython",
    "version": 3
   },
   "file_extension": ".py",
   "mimetype": "text/x-python",
   "name": "python",
   "nbconvert_exporter": "python",
   "pygments_lexer": "ipython3",
   "version": "3.11.7"
  }
 },
 "nbformat": 4,
 "nbformat_minor": 5
}
