{
 "cells": [
  {
   "cell_type": "code",
   "execution_count": 7,
   "id": "f1483512-2364-467f-9ded-62a309c2fa11",
   "metadata": {},
   "outputs": [],
   "source": [
    "from dendromap_data import compute_dendrogram\n",
    "import json\n",
    "import os"
   ]
  },
  {
   "cell_type": "code",
   "execution_count": 20,
   "id": "e5dcd076-45b2-44f1-adaf-0f2e3b1f7491",
   "metadata": {},
   "outputs": [],
   "source": [
    "rel_path = \"../data/\"\n",
    "filename = \"image_features.json\"\n",
    "filepath = rel_path + filename\n",
    "\n",
    "with open(filepath, \"r\") as input_file:\n",
    "    instances = json.load(input_file)"
   ]
  },
  {
   "cell_type": "code",
   "execution_count": 21,
   "id": "416e7fe0-e941-4479-815c-dad9d7c768a6",
   "metadata": {},
   "outputs": [
    {
     "name": "stdout",
     "output_type": "stream",
     "text": [
      "Extracting Features\n",
      "Agglomerative Clustering\n",
      "Constructing Dendrogram\n",
      "Adding information to the leaf nodes\n",
      "Done!\n"
     ]
    }
   ],
   "source": [
    "dendrogram = compute_dendrogram(instances)"
   ]
  },
  {
   "cell_type": "code",
   "execution_count": 10,
   "id": "feac3de8-f72d-48f2-b0fa-c4d2319827c6",
   "metadata": {},
   "outputs": [],
   "source": [
    "os.makedirs(\"../public/dumbo/clusters/\") "
   ]
  },
  {
   "cell_type": "code",
   "execution_count": 22,
   "id": "fb1577b0-ce55-4959-98bf-a4c9c5521b9b",
   "metadata": {},
   "outputs": [],
   "source": [
    "with open(\"../public/dumbo/clusters/dumbo_clusters.json\", \"w\") as out_file:\n",
    "\tdendrogram_json = dendrogram.to_json()\n",
    "\tjson.dump({\"tree\": dendrogram_json}, out_file)"
   ]
  },
  {
   "cell_type": "code",
   "execution_count": null,
   "id": "317ac464-2150-4954-9ebf-fe95974b765a",
   "metadata": {},
   "outputs": [],
   "source": []
  }
 ],
 "metadata": {
  "kernelspec": {
   "display_name": "Python 3 (ipykernel)",
   "language": "python",
   "name": "python3"
  },
  "language_info": {
   "codemirror_mode": {
    "name": "ipython",
    "version": 3
   },
   "file_extension": ".py",
   "mimetype": "text/x-python",
   "name": "python",
   "nbconvert_exporter": "python",
   "pygments_lexer": "ipython3",
   "version": "3.11.7"
  }
 },
 "nbformat": 4,
 "nbformat_minor": 5
}
