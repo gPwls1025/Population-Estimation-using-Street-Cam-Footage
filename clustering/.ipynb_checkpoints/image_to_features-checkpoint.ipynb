{
 "cells": [
  {
   "cell_type": "code",
   "execution_count": 1,
   "id": "1a07ff42-9c18-4931-999f-6e6261268b12",
   "metadata": {},
   "outputs": [],
   "source": [
    "import os\n",
    "import subprocess\n",
    "import pandas as pd\n",
    "import re\n",
    "import json\n",
    "import cv2 #pip install opencv-python\n",
    "import torch\n",
    "import torchvision.transforms as transforms\n",
    "\n",
    "from torchvision.models import resnet50\n",
    "from torchvision.io import read_image\n",
    "from torch.utils.data import DataLoader, Dataset"
   ]
  },
  {
   "cell_type": "markdown",
   "id": "77b7c2c2-b6d4-4cac-9e9f-e189be798e51",
   "metadata": {},
   "source": [
    "## Video to Image"
   ]
  },
  {
   "cell_type": "code",
   "execution_count": 2,
   "id": "865b1e9b-a179-4bb6-a84c-922cbf1da28e",
   "metadata": {},
   "outputs": [
    {
     "name": "stdout",
     "output_type": "stream",
     "text": [
      "Can't receive frame (stream end?). Exiting...\n",
      "Extracted 1788 frames to ../data/extracted_frames\n"
     ]
    }
   ],
   "source": [
    "video_path = \"../data/left_quarter.mp4\"\n",
    "\n",
    "output_dir = os.path.join(\"../data\", \"extracted_frames\")\n",
    "os.makedirs(output_dir, exist_ok=True)\n",
    "\n",
    "cap = cv2.VideoCapture(video_path)\n",
    "\n",
    "if not cap.isOpened():\n",
    "  print(\"Error opening video!\")\n",
    "  exit()\n",
    "\n",
    "fps = int(cap.get(cv2.CAP_PROP_FPS))\n",
    "total_frames = int(cap.get(cv2.CAP_PROP_FRAME_COUNT))\n",
    "\n",
    "frame_count = 1\n",
    "actual_count = 0\n",
    "\n",
    "while True:\n",
    "  ret, frame = cap.read()\n",
    "\n",
    "  if not ret:\n",
    "    print(\"Can't receive frame (stream end?). Exiting...\")\n",
    "    break\n",
    "\n",
    "  # Save frame as numbered image\n",
    "  if frame_count % fps == 0:\n",
    "    image_path = os.path.join(output_dir, f\"{frame_count}.png\")\n",
    "    cv2.imwrite(image_path, frame)\n",
    "    actual_count += 1\n",
    "\n",
    "  frame_count += 1\n",
    "\n",
    "  if frame_count > total_frames:\n",
    "    break\n",
    "\n",
    "cap.release()\n",
    "\n",
    "print(f\"Extracted {actual_count} frames to {output_dir}\")"
   ]
  },
  {
   "cell_type": "markdown",
   "id": "c5b58d5c-419d-4095-9470-75d57da883c4",
   "metadata": {},
   "source": [
    "## Image to Features"
   ]
  },
  {
   "cell_type": "code",
   "execution_count": 3,
   "id": "9052a5da-b06c-40b4-b32f-e7fe95992a35",
   "metadata": {},
   "outputs": [],
   "source": [
    "# Subclass of Dataset to make things more custom yeah\n",
    "class CustomImageDataset(Dataset):\n",
    "    \"\"\"A custom dataset to load images.\"\"\"\n",
    "    def __init__(self, img_dir, transform=None):\n",
    "        self.img_dir = img_dir\n",
    "        self.transform = transform\n",
    "        self.img_names = os.listdir(img_dir)\n",
    "\n",
    "    def __len__(self):\n",
    "        return len(self.img_names)\n",
    "\n",
    "    def __getitem__(self, idx):\n",
    "        img_path = os.path.join(self.img_dir, self.img_names[idx])\n",
    "        image = read_image(img_path)\n",
    "        if self.transform:\n",
    "            image = self.transform(image)\n",
    "        return image, self.img_names[idx], idx"
   ]
  },
  {
   "cell_type": "code",
   "execution_count": 4,
   "id": "93be7282-5322-4c65-be39-056b1abec598",
   "metadata": {},
   "outputs": [],
   "source": [
    "# Define transformations\n",
    "transform = transforms.Compose([\n",
    "    transforms.Resize((224, 224)),  # ResNet requires 224x224 images\n",
    "    transforms.ConvertImageDtype(torch.float),\n",
    "    transforms.Normalize(mean=[0.485, 0.456, 0.406], std=[0.229, 0.224, 0.225]), # This is what it used for training\n",
    "])"
   ]
  },
  {
   "cell_type": "code",
   "execution_count": 5,
   "id": "14e1643f-66dd-4484-acf0-190f89f14478",
   "metadata": {},
   "outputs": [],
   "source": [
    "# Initialize Dataset and DataLoader\n",
    "img_dir = '../data/extracted_frames'\n",
    "dataset = CustomImageDataset(img_dir=img_dir, transform=transform)\n",
    "dataloader = DataLoader(dataset, batch_size=1, shuffle=False)"
   ]
  },
  {
   "cell_type": "code",
   "execution_count": 6,
   "id": "4c87ab6d-4023-480c-87bb-30472f647336",
   "metadata": {},
   "outputs": [
    {
     "name": "stderr",
     "output_type": "stream",
     "text": [
      "/opt/anaconda3/lib/python3.11/site-packages/torchvision/models/_utils.py:208: UserWarning: The parameter 'pretrained' is deprecated since 0.13 and may be removed in the future, please use 'weights' instead.\n",
      "  warnings.warn(\n",
      "/opt/anaconda3/lib/python3.11/site-packages/torchvision/models/_utils.py:223: UserWarning: Arguments other than a weight enum or `None` for 'weights' are deprecated since 0.13 and may be removed in the future. The current behavior is equivalent to passing `weights=ResNet50_Weights.IMAGENET1K_V1`. You can also use `weights=ResNet50_Weights.DEFAULT` to get the most up-to-date weights.\n",
      "  warnings.warn(msg)\n"
     ]
    }
   ],
   "source": [
    "# Load ResNet model\n",
    "model = resnet50(pretrained=True)\n",
    "model.eval()  # Set model to evaluation mode let's go\n",
    "model = torch.nn.Sequential(*(list(model.children())[:-1]))"
   ]
  },
  {
   "cell_type": "code",
   "execution_count": 7,
   "id": "15c7a79e-7040-4d2f-9573-3e3f491cefd8",
   "metadata": {},
   "outputs": [
    {
     "name": "stdout",
     "output_type": "stream",
     "text": [
      "Feature extraction completed.\n"
     ]
    }
   ],
   "source": [
    "# Feature extraction\n",
    "features = []\n",
    "for images, names, indices in dataloader:\n",
    "    with torch.no_grad(): # Since inferencing\n",
    "        output = model(images)\n",
    "        output = output.view(output.size(0), -1) # Turn 4D into 2D [batch, features]\n",
    "    features.append({\"index\": indices.item(), \"filename\": names[0], \"features\": output.numpy().flatten().tolist()})\n",
    "\n",
    "# Export features to a JSON file\n",
    "with open('../data/image_features.json', 'w') as f:\n",
    "    json.dump(features, f)\n",
    "\n",
    "print(\"Feature extraction completed.\")"
   ]
  }
 ],
 "metadata": {
  "kernelspec": {
   "display_name": "Python 3 (ipykernel)",
   "language": "python",
   "name": "python3"
  },
  "language_info": {
   "codemirror_mode": {
    "name": "ipython",
    "version": 3
   },
   "file_extension": ".py",
   "mimetype": "text/x-python",
   "name": "python",
   "nbconvert_exporter": "python",
   "pygments_lexer": "ipython3",
   "version": "3.11.7"
  }
 },
 "nbformat": 4,
 "nbformat_minor": 5
}
