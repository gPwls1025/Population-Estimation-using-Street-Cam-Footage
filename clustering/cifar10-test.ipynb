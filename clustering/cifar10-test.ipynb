{
 "cells": [
  {
   "cell_type": "code",
   "execution_count": 2,
   "id": "f1483512-2364-467f-9ded-62a309c2fa11",
   "metadata": {},
   "outputs": [],
   "source": [
    "from dendromap_data import compute_dendrogram\n",
    "import json\n",
    "import os"
   ]
  },
  {
   "cell_type": "code",
   "execution_count": 3,
   "id": "81592e51-78b9-4f84-aa06-25778bcb8c91",
   "metadata": {},
   "outputs": [],
   "source": [
    "def import_predictions(filepath):\n",
    "    data = None\n",
    "    with open(filepath, \"r\") as input_file:\n",
    "        data = json.load(input_file)\n",
    "    return data"
   ]
  },
  {
   "cell_type": "code",
   "execution_count": 4,
   "id": "e5dcd076-45b2-44f1-adaf-0f2e3b1f7491",
   "metadata": {},
   "outputs": [],
   "source": [
    "relative_folder = \"./cifar10_model\"\n",
    "predictions_filename = \"prediction_results-cifar10-resnet50-test.json\"\n",
    "\n",
    "resnet50_cifar10_data = import_predictions(f\"{relative_folder}/{predictions_filename}\")\n",
    "\n",
    "# instances is a list of dictionaries for each image\n",
    "instances = resnet50_cifar10_data[\"test_instances\"]\n",
    "classes = resnet50_cifar10_data[\"classes\"]"
   ]
  },
  {
   "cell_type": "code",
   "execution_count": 5,
   "id": "7c48a7cf-6f08-40d0-a5d2-7f07a31ea333",
   "metadata": {},
   "outputs": [
    {
     "data": {
      "text/plain": [
       "dict_keys(['index', 'filename', 'true_class', 'predicted_class', 'prediction_scores', 'features', 'features_2'])"
      ]
     },
     "execution_count": 5,
     "metadata": {},
     "output_type": "execute_result"
    }
   ],
   "source": [
    "instances[0].keys()"
   ]
  },
  {
   "cell_type": "code",
   "execution_count": 41,
   "id": "416e7fe0-e941-4479-815c-dad9d7c768a6",
   "metadata": {},
   "outputs": [
    {
     "name": "stdout",
     "output_type": "stream",
     "text": [
      "Extracting Features\n",
      "Agglomerative Clustering\n",
      "Constructing Dendrogram\n",
      "Adding information to the leaf nodes\n",
      "Done!\n"
     ]
    }
   ],
   "source": [
    "dendrogram = compute_dendrogram(instances)"
   ]
  },
  {
   "cell_type": "code",
   "execution_count": 42,
   "id": "fb1577b0-ce55-4959-98bf-a4c9c5521b9b",
   "metadata": {},
   "outputs": [],
   "source": [
    "with open(\"../public/cifar10/clusters/cifar10-test.json\", \"w\") as out_file:\n",
    "\tdendrogram_json = dendrogram.to_json()\n",
    "\tjson.dump({\"tree\": dendrogram_json}, out_file)"
   ]
  }
 ],
 "metadata": {
  "kernelspec": {
   "display_name": "Python 3 (ipykernel)",
   "language": "python",
   "name": "python3"
  },
  "language_info": {
   "codemirror_mode": {
    "name": "ipython",
    "version": 3
   },
   "file_extension": ".py",
   "mimetype": "text/x-python",
   "name": "python",
   "nbconvert_exporter": "python",
   "pygments_lexer": "ipython3",
   "version": "3.11.7"
  }
 },
 "nbformat": 4,
 "nbformat_minor": 5
}
