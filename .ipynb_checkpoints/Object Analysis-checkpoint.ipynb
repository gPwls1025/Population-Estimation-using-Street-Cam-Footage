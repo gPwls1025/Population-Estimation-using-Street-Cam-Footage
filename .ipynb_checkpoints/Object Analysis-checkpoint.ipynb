{
 "cells": [
  {
   "cell_type": "code",
   "execution_count": 9,
   "metadata": {
    "id": "YGJSKbRnNO1S"
   },
   "outputs": [],
   "source": [
    "#@title Install dependencies\n",
    "from IPython.display import clear_output, display, Image\n",
    "\n",
    "clear_output()"
   ]
  },
  {
   "cell_type": "markdown",
   "metadata": {
    "id": "yTlxxiKu0Lh8"
   },
   "source": [
    "### Imports"
   ]
  },
  {
   "cell_type": "code",
   "execution_count": 10,
   "metadata": {
    "id": "1OiqEB_HNIlx"
   },
   "outputs": [],
   "source": [
    "import os\n",
    "import subprocess\n",
    "import pandas as pd\n",
    "import re\n",
    "import cv2\n",
    "import matplotlib.pyplot as plt\n",
    "import seaborn as sns\n",
    "import plotly.graph_objects as go\n",
    "import networkx as nx\n",
    "import plotly.express as px\n",
    "import streamlit as st\n",
    "\n",
    "clear_output()"
   ]
  },
  {
   "cell_type": "code",
   "execution_count": 5,
   "metadata": {
    "colab": {
     "base_uri": "https://localhost:8080/",
     "height": 69
    },
    "id": "_U1Vndr6AEX8",
    "outputId": "56ca1660-6b8f-493a-8e42-7f1e00bd81d7"
   },
   "outputs": [],
   "source": [
    "df = pd.read_csv(\"data/YOLO+RAM_merged.csv\")\n",
    "df.drop(df.columns[0], axis=1,inplace=True)"
   ]
  },
  {
   "cell_type": "code",
   "execution_count": 4,
   "metadata": {},
   "outputs": [
    {
     "data": {
      "text/html": [
       "<div>\n",
       "<style scoped>\n",
       "    .dataframe tbody tr th:only-of-type {\n",
       "        vertical-align: middle;\n",
       "    }\n",
       "\n",
       "    .dataframe tbody tr th {\n",
       "        vertical-align: top;\n",
       "    }\n",
       "\n",
       "    .dataframe thead th {\n",
       "        text-align: right;\n",
       "    }\n",
       "</style>\n",
       "<table border=\"1\" class=\"dataframe\">\n",
       "  <thead>\n",
       "    <tr style=\"text-align: right;\">\n",
       "      <th></th>\n",
       "      <th>Image</th>\n",
       "      <th>RAM_Tags</th>\n",
       "      <th>YOLO_Tags</th>\n",
       "      <th>location</th>\n",
       "      <th>locationID</th>\n",
       "      <th>videoID</th>\n",
       "      <th>aggID</th>\n",
       "    </tr>\n",
       "  </thead>\n",
       "  <tbody>\n",
       "    <tr>\n",
       "      <th>0</th>\n",
       "      <td>84.jpg</td>\n",
       "      <td>car | city street | crack | crosswalk | curb |...</td>\n",
       "      <td>1 person, 15 car, 1 traffic light</td>\n",
       "      <td>park</td>\n",
       "      <td>1</td>\n",
       "      <td>1</td>\n",
       "      <td>1100084</td>\n",
       "    </tr>\n",
       "    <tr>\n",
       "      <th>1</th>\n",
       "      <td>98.jpg</td>\n",
       "      <td>car | city street | crack | crosswalk | curb |...</td>\n",
       "      <td>14 car</td>\n",
       "      <td>park</td>\n",
       "      <td>1</td>\n",
       "      <td>1</td>\n",
       "      <td>1100098</td>\n",
       "    </tr>\n",
       "    <tr>\n",
       "      <th>2</th>\n",
       "      <td>112.jpg</td>\n",
       "      <td>black | car | city street | crack | crosswalk ...</td>\n",
       "      <td>1 person, 8 car, 1 traffic light</td>\n",
       "      <td>park</td>\n",
       "      <td>1</td>\n",
       "      <td>1</td>\n",
       "      <td>1100112</td>\n",
       "    </tr>\n",
       "    <tr>\n",
       "      <th>3</th>\n",
       "      <td>126.jpg</td>\n",
       "      <td>car | city street | crack | crosswalk | curb |...</td>\n",
       "      <td>1 person, 13 car, 1 traffic light</td>\n",
       "      <td>park</td>\n",
       "      <td>1</td>\n",
       "      <td>1</td>\n",
       "      <td>1100126</td>\n",
       "    </tr>\n",
       "    <tr>\n",
       "      <th>4</th>\n",
       "      <td>140.jpg</td>\n",
       "      <td>car | city street | crack | crosswalk | curb |...</td>\n",
       "      <td>1 person, 9 car, 1 traffic light</td>\n",
       "      <td>park</td>\n",
       "      <td>1</td>\n",
       "      <td>1</td>\n",
       "      <td>1100140</td>\n",
       "    </tr>\n",
       "  </tbody>\n",
       "</table>\n",
       "</div>"
      ],
      "text/plain": [
       "     Image                                           RAM_Tags  \\\n",
       "0   84.jpg  car | city street | crack | crosswalk | curb |...   \n",
       "1   98.jpg  car | city street | crack | crosswalk | curb |...   \n",
       "2  112.jpg  black | car | city street | crack | crosswalk ...   \n",
       "3  126.jpg  car | city street | crack | crosswalk | curb |...   \n",
       "4  140.jpg  car | city street | crack | crosswalk | curb |...   \n",
       "\n",
       "                           YOLO_Tags location  locationID  videoID    aggID  \n",
       "0  1 person, 15 car, 1 traffic light     park           1        1  1100084  \n",
       "1                             14 car     park           1        1  1100098  \n",
       "2   1 person, 8 car, 1 traffic light     park           1        1  1100112  \n",
       "3  1 person, 13 car, 1 traffic light     park           1        1  1100126  \n",
       "4   1 person, 9 car, 1 traffic light     park           1        1  1100140  "
      ]
     },
     "execution_count": 4,
     "metadata": {},
     "output_type": "execute_result"
    }
   ],
   "source": [
    "df.head()"
   ]
  },
  {
   "cell_type": "markdown",
   "metadata": {
    "id": "UieytFtgWI9x"
   },
   "source": [
    "### Co-occurence Matrix"
   ]
  },
  {
   "cell_type": "code",
   "execution_count": 5,
   "metadata": {
    "id": "qXryFDqvDDxN"
   },
   "outputs": [],
   "source": [
    "all_tags = set()\n",
    "for tags in df['RAM_Tags']:\n",
    "    all_tags.update(tags.split(' | '))\n",
    "all_tags = sorted(list(all_tags))\n",
    "\n",
    "# Creating co-occurrence matrices\n",
    "co_occurrence_overall = pd.DataFrame(index=all_tags, columns=all_tags).fillna(0)\n",
    "\n",
    "# Function to update co-occurrence matrices\n",
    "def update_co_occurrence(df, co_occurrence_matrix):\n",
    "    for _, row in df.iterrows():\n",
    "        tags = row['RAM_Tags'].split(' | ')\n",
    "        for i in range(len(tags)):\n",
    "            for j in range(i+1, len(tags)):\n",
    "                co_occurrence_matrix.at[tags[i], tags[j]] += 1\n",
    "                co_occurrence_matrix.at[tags[j], tags[i]] += 1\n",
    "\n",
    "\n",
    "co_occurrence_overall_total = []\n",
    "\n",
    "# Updating co-occurrence matrices and normalizing by location\n",
    "for location, df_location in df.groupby('location'):\n",
    "    co_occurrence_grouped = co_occurrence_overall.copy()\n",
    "    update_co_occurrence(df_location, co_occurrence_grouped) # count occurrences\n",
    "    co_occurrence_grouped /= df_location.shape[0] # normalize the counts for each loc\n",
    "    co_occurrence_overall_total.append((location,co_occurrence_grouped))\n",
    "\n",
    "# Average the matrices\n",
    "co_occurrence_overall = sum(comat_loc[1] for comat_loc in co_occurrence_overall_total) / len(co_occurrence_overall_total)"
   ]
  },
  {
   "cell_type": "code",
   "execution_count": 19,
   "metadata": {},
   "outputs": [],
   "source": [
    "# Top N co-occuring pairs\n",
    "def top_n_cooccur_pairs(df, location, top_n):\n",
    "    \n",
    "    pairs = df.stack().reset_index()\n",
    "    pairs.columns = ['Term1', 'Term2', 'Co-occurrence']\n",
    "    pairs = pairs[pairs['Term1'] < pairs['Term2']]\n",
    "    top_pairs = pairs.sort_values(by='Co-occurrence', ascending=False).head(top_n)\n",
    "    \n",
    "    print(f\"Top Co-occurring Pairs in {location.capitalize()}:\")\n",
    "    print(top_pairs)\n",
    "\n",
    "    return top_pairs\n",
    "\n",
    "\n",
    "# Top N tags by overall co-occurrences\n",
    "def top_n_common_item(df, location, top_n):\n",
    "    tag_sums = df.sum(axis=1)\n",
    "    top_n_tags = tag_sums.sort_values(ascending=False).head(top_n)\n",
    "    print(f\"\\nTop Tags by Overall Co-occurrences in {location.capitalize()}:\")\n",
    "    print(top_n_tags)    "
   ]
  },
  {
   "cell_type": "code",
   "execution_count": 34,
   "metadata": {},
   "outputs": [],
   "source": [
    "person_associated_words = [\n",
    "    'baby',\n",
    "    'boy',\n",
    "    'businessman',\n",
    "    'child',\n",
    "    'construction worker',\n",
    "    'couple',\n",
    "    'daughter',\n",
    "    'girl',\n",
    "    'man',\n",
    "    'mother',\n",
    "    'nun',\n",
    "    'officer',\n",
    "    'pedestrian',\n",
    "    'person',\n",
    "    'protester',\n",
    "    'runner',\n",
    "    'skater',\n",
    "    'skateboarder',\n",
    "    'student',\n",
    "    'woman'\n",
    "]"
   ]
  },
  {
   "cell_type": "markdown",
   "metadata": {},
   "source": [
    "## Chase\n",
    "Chase has the highest people to car interaction than any other locations"
   ]
  },
  {
   "cell_type": "code",
   "execution_count": 71,
   "metadata": {},
   "outputs": [],
   "source": [
    "co_occurrence_overall_total[0][1].to_csv(\"data/chase_cooccurrence.csv\")"
   ]
  },
  {
   "cell_type": "code",
   "execution_count": 36,
   "metadata": {},
   "outputs": [
    {
     "name": "stdout",
     "output_type": "stream",
     "text": [
      "Top Co-occurring Pairs in Chase:\n",
      "city street  road             0.925821\n",
      "road         street corner    0.915931\n",
      "city street  street corner    0.879901\n",
      "crosswalk    road             0.806605\n",
      "car          road             0.790533\n",
      "city street  crosswalk        0.790004\n",
      "pavement     road             0.787178\n",
      "car          city street      0.771106\n",
      "cross        road             0.770399\n",
      "person       road             0.767573\n",
      "dtype: float64\n"
     ]
    }
   ],
   "source": [
    "top_n_cooccur_pairs(co_occurrence_overall_total[0][1], co_occurrence_overall_total[0][0], 10) "
   ]
  },
  {
   "cell_type": "code",
   "execution_count": 37,
   "metadata": {},
   "outputs": [
    {
     "name": "stdout",
     "output_type": "stream",
     "text": [
      "\n",
      "Top Tags by Overall Co-occurrences in Chase:\n",
      "road             11.256446\n",
      "city street      10.754327\n",
      "street corner    10.655422\n",
      "crosswalk         9.392264\n",
      "car               9.256093\n",
      "pavement          9.132109\n",
      "person            9.070293\n",
      "cross             9.066937\n",
      "intersection      8.658778\n",
      "walk              8.431473\n",
      "dtype: float64\n"
     ]
    }
   ],
   "source": [
    "top_n_common_item(co_occurrence_overall_total[0][1], co_occurrence_overall_total[0][0], 10) "
   ]
  },
  {
   "cell_type": "code",
   "execution_count": 43,
   "metadata": {
    "scrolled": true
   },
   "outputs": [
    {
     "data": {
      "text/plain": [
       "1.5990815966089722"
      ]
     },
     "execution_count": 43,
     "metadata": {},
     "output_type": "execute_result"
    }
   ],
   "source": [
    "co_occurrence_overall_total[0][1].loc['car', person_associated_words].sum()"
   ]
  },
  {
   "cell_type": "markdown",
   "metadata": {},
   "source": [
    "## Dumbo"
   ]
  },
  {
   "cell_type": "code",
   "execution_count": 38,
   "metadata": {},
   "outputs": [
    {
     "name": "stdout",
     "output_type": "stream",
     "text": [
      "Top Co-occurring Pairs in Dumbo:\n",
      "crosswalk     road            0.992908\n",
      "intersection  road            0.783688\n",
      "crosswalk     intersection    0.782270\n",
      "city street   road            0.732624\n",
      "              crosswalk       0.726950\n",
      "              intersection    0.707801\n",
      "city          road            0.705674\n",
      "              crosswalk       0.702128\n",
      "              city street     0.679433\n",
      "              intersection    0.672340\n",
      "dtype: float64\n"
     ]
    }
   ],
   "source": [
    "top_n_cooccur_pairs(co_occurrence_overall_total[1][1], co_occurrence_overall_total[1][0], 10) "
   ]
  },
  {
   "cell_type": "code",
   "execution_count": 39,
   "metadata": {},
   "outputs": [
    {
     "name": "stdout",
     "output_type": "stream",
     "text": [
      "\n",
      "Top Tags by Overall Co-occurrences in Dumbo:\n",
      "road             8.933333\n",
      "crosswalk        8.866667\n",
      "intersection     7.141844\n",
      "city street      6.722695\n",
      "city             6.456738\n",
      "car              5.342553\n",
      "cross            5.060284\n",
      "street sign      4.941844\n",
      "person           4.456028\n",
      "street corner    4.193617\n",
      "dtype: float64\n"
     ]
    }
   ],
   "source": [
    "top_n_common_item(co_occurrence_overall_total[1][1], co_occurrence_overall_total[1][0], 10) "
   ]
  },
  {
   "cell_type": "code",
   "execution_count": 33,
   "metadata": {},
   "outputs": [
    {
     "data": {
      "text/plain": [
       "0.4191489361702127"
      ]
     },
     "execution_count": 33,
     "metadata": {},
     "output_type": "execute_result"
    }
   ],
   "source": [
    "co_occurrence_overall_total[1][1].loc['car', person_associated_words].sum()"
   ]
  },
  {
   "cell_type": "code",
   "execution_count": 60,
   "metadata": {},
   "outputs": [],
   "source": [
    "co_occurrence_overall_total[1][1].to_csv(\"data/dumbo_cooccurrence.csv\")"
   ]
  },
  {
   "cell_type": "markdown",
   "metadata": {},
   "source": [
    "## Park"
   ]
  },
  {
   "cell_type": "code",
   "execution_count": 40,
   "metadata": {},
   "outputs": [
    {
     "name": "stdout",
     "output_type": "stream",
     "text": [
      "Top Co-occurring Pairs in Park:\n",
      "intersection  road             0.837262\n",
      "drain         road             0.833520\n",
      "city street   road             0.823045\n",
      "drain         intersection     0.821549\n",
      "city street   intersection     0.819678\n",
      "              drain            0.819304\n",
      "crack         road             0.817434\n",
      "road          street corner    0.817434\n",
      "car           road             0.816685\n",
      "              intersection     0.813318\n",
      "dtype: float64\n"
     ]
    }
   ],
   "source": [
    "top_n_cooccur_pairs(co_occurrence_overall_total[2][1], co_occurrence_overall_total[2][0], 10) "
   ]
  },
  {
   "cell_type": "code",
   "execution_count": 41,
   "metadata": {},
   "outputs": [
    {
     "name": "stdout",
     "output_type": "stream",
     "text": [
      "\n",
      "Top Tags by Overall Co-occurrences in Park:\n",
      "road             9.146652\n",
      "intersection     8.928545\n",
      "drain            8.888515\n",
      "city street      8.783389\n",
      "crack            8.706697\n",
      "car              8.695847\n",
      "street corner    8.684250\n",
      "curb             8.607183\n",
      "manhole cover    8.168350\n",
      "crosswalk        7.940890\n",
      "dtype: float64\n"
     ]
    }
   ],
   "source": [
    "top_n_common_item(co_occurrence_overall_total[2][1], co_occurrence_overall_total[2][0], 10) "
   ]
  },
  {
   "cell_type": "code",
   "execution_count": 30,
   "metadata": {},
   "outputs": [
    {
     "data": {
      "text/plain": [
       "0.12345679012345678"
      ]
     },
     "execution_count": 30,
     "metadata": {},
     "output_type": "execute_result"
    }
   ],
   "source": [
    "co_occurrence_overall_total[2][1].loc['car', person_associated_words].sum()"
   ]
  },
  {
   "cell_type": "code",
   "execution_count": 61,
   "metadata": {},
   "outputs": [],
   "source": [
    "# co_occurrence_overall_total[2][1].to_csv(\"data/park_cooccurrence.csv\")"
   ]
  }
 ],
 "metadata": {
  "colab": {
   "gpuType": "T4",
   "provenance": []
  },
  "kernelspec": {
   "display_name": "Python 3 (ipykernel)",
   "language": "python",
   "name": "python3"
  },
  "language_info": {
   "codemirror_mode": {
    "name": "ipython",
    "version": 3
   },
   "file_extension": ".py",
   "mimetype": "text/x-python",
   "name": "python",
   "nbconvert_exporter": "python",
   "pygments_lexer": "ipython3",
   "version": "3.11.7"
  }
 },
 "nbformat": 4,
 "nbformat_minor": 4
}
